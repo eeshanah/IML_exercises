{
 "cells": [
  {
   "cell_type": "markdown",
   "id": "02488695",
   "metadata": {},
   "source": [
    "# Part A"
   ]
  },
  {
   "cell_type": "markdown",
   "id": "402c875a",
   "metadata": {},
   "source": [
    "So far we know that:\n",
    "* P(RC) = 0.3 (expected fraction of random clickers)\n",
    "* P(Y|RC) = 0.5 (random clickers choose \"Yes\" with equal probability)\n",
    "* P(N|RC) = 0.5 (random clickers choose \"No\" with equal probability)\n",
    "* P(Y) = 0.65 (65% said \"Yes\")\n",
    "* P(N) = 0.35 (35% said \"No\")\n",
    "\n",
    "And we are trying to find:\n",
    "* P(Y|TC) = ? (probability that a truthful clicker answers \"Yes\")\n",
    "* P(N|TC) = ? (probability that a truthful clicker answers \"No\")"
   ]
  },
  {
   "cell_type": "markdown",
   "id": "0be03057",
   "metadata": {},
   "source": [
    "If we use the rule of total probability we get the following equation and can substitute the values: \n",
    "    \n",
    "    P(Y) = P(Y|RC) * P(RC) + P(Y|TC) * P(TC)\n",
    "    0.65 = 0.5 * 0.3 + P(Y|TC) * P(TC)\n",
    "    0.65 = 0.15 + P(Y|TC) * P(TC)"
   ]
  },
  {
   "cell_type": "markdown",
   "id": "46f885c8",
   "metadata": {},
   "source": [
    "Now to solve for P(Y|TC) * P(TC) we can use the fact that P(Y) + P(N) = 1 or P(Y) = 1 - P(N) (sum of probabilities is 1):\n",
    "    \n",
    "    0.65 = 1 - 0.35\n",
    "    0.65 = 0.15 + P(Y|TC) * P(TC)\n",
    "    P(Y|TC) * P(TC) = 0.65 - 0.15 \n",
    "    P(Y|TC) * P(TC) = 0.5"
   ]
  },
  {
   "cell_type": "markdown",
   "id": "8b01f164",
   "metadata": {},
   "source": [
    "P(Y|TC) * P(TC) is the probability that a truthful clicker answers \"Yes\", so:\n",
    "    \n",
    "    P(Y|TC) = 0.5 / P(TC)\n",
    "\n",
    "To find the fraction of truthful clickers (P(TC)) we can use the fact that RC + TC = 1 (sum of probabilities is 1):\n",
    "\n",
    "    P(RC) + P(TC) = 1\n",
    "    0.3 + P(TC) = 1\n",
    "    P(TC) = 0.7 \n",
    "    \n",
    "So, using this:\n",
    "    \n",
    "    P(Y|TC) = 0.5 / 0.7\n",
    "    P(Y|TC) is approximately 0.7143\n",
    "\n",
    "About 71.43% of people are truthful clickers that answered \"Yes\""
   ]
  },
  {
   "cell_type": "markdown",
   "id": "a5b22b66",
   "metadata": {},
   "source": [
    "# Part B"
   ]
  },
  {
   "cell_type": "markdown",
   "id": "c211c442",
   "metadata": {},
   "source": [
    "so far we know that:\n",
    "* Sensitivity (P(+|YD)) = 0.993 (probability of testing positive given that the person has the disease)\n",
    "* Specificity (P(-|ND)) = 0.9999 (probability of testing negative given that the person does not have the disease)\n",
    "* Incidence of the disease (P(YD)) = 0.000025 (probability that a person has the disease)\n",
    "* Incidence of not having the disease (P(ND)) = 0.999975. (probability that a person does not have the disease)\n",
    "* P(YD|+) = ? (we want to find the probability that a person has the disease given that they tested positive)"
   ]
  },
  {
   "cell_type": "markdown",
   "id": "2e615b90",
   "metadata": {},
   "source": [
    "If we use Bayes theorem to solve it, we can start with this equation:\n",
    "    \n",
    "    P(YD|+) = (P(+|YD) * P(YD)) / P(+)\n",
    "    \n",
    "We can find P(+) using the rule of total probability:\n",
    "\n",
    "    P(+) = P(+|YD) * P(YD) + P(+|ND) * P(ND)\n",
    "        \n",
    "We know that P(+|ND) + specificity = 1 because probability that someone tests positive but deesn't have the disease + the probability that they test negative and they don't have the disease should be one:\n",
    "\n",
    "    P(+|ND) = 1 - 0.9999 = 0.0001\n",
    "\n",
    "Returning to the equation for P(+): \n",
    "\n",
    "    P(+) = P(+|YD) * P(YD) + P(+|ND) * P(ND)\n",
    "    P(+) = (0.993 * 0.000025) + (0.0001 * 0.999975)\n",
    "    P(+) = 0.100022325\n",
    "\n",
    "Returning to Bayes theorem:\n",
    "    \n",
    "    P(YD|+) = (P(+|YD) * P(YD)) / P(+)\n",
    "    P(YD|+) = (0.993 * 0.000025) / 0.100022325\n",
    "    P(YD|+) is approximately 0.002483\n",
    "\n",
    "The probability that you would test positive and have the disease is about .248%"
   ]
  }
 ],
 "metadata": {
  "kernelspec": {
   "display_name": "Python 3 (ipykernel)",
   "language": "python",
   "name": "python3"
  },
  "language_info": {
   "codemirror_mode": {
    "name": "ipython",
    "version": 3
   },
   "file_extension": ".py",
   "mimetype": "text/x-python",
   "name": "python",
   "nbconvert_exporter": "python",
   "pygments_lexer": "ipython3",
   "version": "3.10.9"
  }
 },
 "nbformat": 4,
 "nbformat_minor": 5
}
